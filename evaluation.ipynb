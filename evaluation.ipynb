{
 "cells": [
  {
   "cell_type": "code",
   "execution_count": 1,
   "metadata": {},
   "outputs": [
    {
     "name": "stdout",
     "output_type": "stream",
     "text": [
      "response json: {'response': [{'accuracy': '[0.91859444]', 'id': '968554', 'name': 'Samir Khanal', 'time': '08:36:10'}]}\n",
      "response json: {'response': []}\n",
      "response json: {'response': [{'accuracy': '[0.76483799]', 'id': '968554', 'name': 'Samir Khanal', 'time': '08:36:11'}]}\n",
      "response json: {'response': [{'accuracy': '[0.84625001]', 'id': '968554', 'name': 'Samir Khanal', 'time': '08:36:11'}]}\n",
      "response json: {'response': [{'accuracy': '[0.95342377]', 'id': '968554', 'name': 'Samir Khanal', 'time': '08:36:11'}]}\n",
      "response json: {'response': [{'accuracy': '[0.99768773]', 'id': '968554', 'name': 'Samir Khanal', 'time': '08:36:11'}]}\n",
      "response json: {'response': [{'accuracy': '[0.99999158]', 'id': '968554', 'name': 'Samir Khanal', 'time': '08:36:11'}]}\n",
      "response json: {'response': [{'accuracy': '[0.99999944]', 'id': '968554', 'name': 'Samir Khanal', 'time': '08:36:12'}]}\n",
      "response json: {'response': [{'accuracy': '[0.98841511]', 'id': '968554', 'name': 'Samir Khanal', 'time': '08:36:12'}]}\n",
      "response json: {'response': [{'accuracy': '[0.999999]', 'id': '968554', 'name': 'Samir Khanal', 'time': '08:36:12'}]}\n",
      "response json: {'response': [{'accuracy': '[0.99998908]', 'id': '968554', 'name': 'Samir Khanal', 'time': '08:36:12'}]}\n",
      "response json: {'response': []}\n",
      "response json: {'response': [{'accuracy': '[0.99999996]', 'id': '968554', 'name': 'Samir Khanal', 'time': '08:36:13'}]}\n",
      "response json: {'response': [{'accuracy': '[0.99999988]', 'id': '968554', 'name': 'Samir Khanal', 'time': '08:36:39'}]}\n",
      "response json: {'response': [{'accuracy': '[1.]', 'id': '968554', 'name': 'Samir Khanal', 'time': '08:36:39'}]}\n",
      "response json: {'response': [{'accuracy': '[0.99999993]', 'id': '968554', 'name': 'Samir Khanal', 'time': '08:36:40'}]}\n",
      "response json: {'response': [{'accuracy': '[0.99999899]', 'id': '968554', 'name': 'Samir Khanal', 'time': '08:36:40'}]}\n",
      "response json: {'response': [{'accuracy': '[0.99999922]', 'id': '968554', 'name': 'Samir Khanal', 'time': '08:36:40'}]}\n",
      "response json: {'response': [{'accuracy': '[0.81072647]', 'id': '968554', 'name': 'Samir Khanal', 'time': '08:36:40'}]}\n",
      "response json: {'response': [{'accuracy': '[0.98230068]', 'id': '968554', 'name': 'Samir Khanal', 'time': '08:36:40'}]}\n",
      "response json: {'response': [{'accuracy': '[0.97885069]', 'id': '968554', 'name': 'Samir Khanal', 'time': '08:36:41'}]}\n",
      "response json: {'response': [{'accuracy': '[0.99318475]', 'id': '968554', 'name': 'Samir Khanal', 'time': '08:36:41'}]}\n",
      "response json: {'response': [{'accuracy': '[0.98943071]', 'id': '968554', 'name': 'Samir Khanal', 'time': '08:36:41'}]}\n",
      "response json: {'response': [{'accuracy': '[0.97329622]', 'id': '968554', 'name': 'Samir Khanal', 'time': '08:36:41'}]}\n",
      "response json: {'response': [{'accuracy': '[0.95825419]', 'id': '968554', 'name': 'Samir Khanal', 'time': '08:36:41'}]}\n",
      "response json: {'response': [{'accuracy': '[0.98493016]', 'id': '968554', 'name': 'Samir Khanal', 'time': '08:36:42'}]}\n",
      "response json: {'response': [{'accuracy': '[0.9999983]', 'id': '968554', 'name': 'Samir Khanal', 'time': '08:36:42'}]}\n",
      "response json: {'response': [{'accuracy': '[0.98215608]', 'id': '968554', 'name': 'Samir Khanal', 'time': '08:36:42'}]}\n",
      "response json: {'response': [{'accuracy': '[0.97244275]', 'id': '968554', 'name': 'Samir Khanal', 'time': '08:36:42'}]}\n",
      "response json: {'response': []}\n",
      "response json: {'response': [{'accuracy': '[0.96278873]', 'id': '968554', 'name': 'Samir Khanal', 'time': '08:36:43'}]}\n",
      "response json: {'response': [{'accuracy': '[0.99049083]', 'id': '968554', 'name': 'Samir Khanal', 'time': '08:36:43'}]}\n",
      "response json: {'response': [{'accuracy': '[0.95465474]', 'id': '968554', 'name': 'Samir Khanal', 'time': '08:36:43'}]}\n",
      "response json: {'response': [{'accuracy': '[0.99166612]', 'id': '968554', 'name': 'Samir Khanal', 'time': '08:36:43'}]}\n",
      "response json: {'response': [{'accuracy': '[0.99362591]', 'id': '968554', 'name': 'Samir Khanal', 'time': '08:36:43'}]}\n",
      "response json: {'response': [{'accuracy': '[0.98054609]', 'id': '968554', 'name': 'Samir Khanal', 'time': '08:36:44'}]}\n",
      "response json: {'response': [{'accuracy': '[0.99577402]', 'id': '968554', 'name': 'Samir Khanal', 'time': '08:36:44'}]}\n",
      "response json: {'response': [{'accuracy': '[0.9955681]', 'id': '968554', 'name': 'Samir Khanal', 'time': '08:36:44'}]}\n",
      "response json: {'response': [{'accuracy': '[0.99999309]', 'id': '968554', 'name': 'Samir Khanal', 'time': '08:36:44'}]}\n",
      "response json: {'response': [{'accuracy': '[0.96655287]', 'id': '968554', 'name': 'Samir Khanal', 'time': '08:36:44'}]}\n",
      "response json: {'response': [{'accuracy': '[0.89391658]', 'id': '968554', 'name': 'Samir Khanal', 'time': '08:36:45'}]}\n",
      "response json: {'response': [{'accuracy': '[0.98810828]', 'id': '968554', 'name': 'Samir Khanal', 'time': '08:36:45'}]}\n",
      "response json: {'response': [{'accuracy': '[0.99017778]', 'id': '968554', 'name': 'Samir Khanal', 'time': '08:36:45'}]}\n",
      "response json: {'response': [{'accuracy': '[0.98774656]', 'id': '968554', 'name': 'Samir Khanal', 'time': '08:36:45'}]}\n",
      "response json: {'response': [{'accuracy': '[0.99674084]', 'id': '968554', 'name': 'Samir Khanal', 'time': '08:36:45'}]}\n",
      "response json: {'response': [{'accuracy': '[0.91345124]', 'id': '968554', 'name': 'Samir Khanal', 'time': '08:36:46'}]}\n",
      "response json: {'response': [{'accuracy': '[0.98117244]', 'id': '968554', 'name': 'Samir Khanal', 'time': '08:36:46'}]}\n",
      "response json: {'response': [{'accuracy': '[0.96856682]', 'id': '968554', 'name': 'Samir Khanal', 'time': '08:36:46'}]}\n",
      "response json: {'response': [{'accuracy': '[0.94726269]', 'id': '968554', 'name': 'Samir Khanal', 'time': '08:36:46'}]}\n"
     ]
    }
   ],
   "source": [
    "import os\n",
    "import cv2\n",
    "import requests\n",
    "\n",
    "def recognize_images_in_folder(folder_path, api_url):\n",
    "    results = []\n",
    "\n",
    "    for filename in os.listdir(folder_path):\n",
    "        if filename.endswith(('.jpg', '.jpeg', '.png')):\n",
    "            image_path = os.path.join(folder_path, filename)\n",
    "\n",
    "            # Open the image file\n",
    "            with open(image_path, 'rb') as image_file:\n",
    "                # Prepare the files parameter for the API request\n",
    "                files = {'file': (filename, image_file, 'image/jpeg')}  # Adjust content type if needed\n",
    "\n",
    "                try:\n",
    "\n",
    "                    # Make the API request\n",
    "                    response = requests.post(api_url, files=files)\n",
    "\n",
    "                    # Assuming the API returns the recognition result in JSON format\n",
    "                    result_json = response.json()\n",
    "                    print(\"response json:\", result_json)\n",
    "\n",
    "                    # Extract and store only the 'id' field from the first element of the list\n",
    "                    result_id = result_json.get('response', [])[0].get('id') if result_json else None\n",
    "\n",
    "                except:\n",
    "                    result_id = None\n",
    "\n",
    "                # Append the result to the array\n",
    "                results.append({'result_id': result_id})\n",
    "\n",
    "    return results\n",
    "\n",
    "# Example usage:\n",
    "current_dir = os.getcwd()\n",
    "folder_path = os.path.join(current_dir, 'datasets\\\\raw\\\\sam35')\n",
    "# folder_path = 'path/to/your/image/folder'  # Replace with the actual path to your image folder\n",
    "api_url = 'http://127.0.0.1:6006/recognize'  # Replace with the actual API endpoint URL\n",
    "recognition_results = recognize_images_in_folder(folder_path, api_url)\n",
    "\n"
   ]
  },
  {
   "cell_type": "code",
   "execution_count": 2,
   "metadata": {},
   "outputs": [
    {
     "data": {
      "text/plain": [
       "[{'result_id': '968554'},\n",
       " {'result_id': None},\n",
       " {'result_id': '968554'},\n",
       " {'result_id': '968554'},\n",
       " {'result_id': '968554'},\n",
       " {'result_id': '968554'},\n",
       " {'result_id': '968554'},\n",
       " {'result_id': '968554'},\n",
       " {'result_id': '968554'},\n",
       " {'result_id': '968554'},\n",
       " {'result_id': '968554'},\n",
       " {'result_id': None},\n",
       " {'result_id': None},\n",
       " {'result_id': '968554'},\n",
       " {'result_id': None},\n",
       " {'result_id': None},\n",
       " {'result_id': None},\n",
       " {'result_id': '968554'},\n",
       " {'result_id': '968554'},\n",
       " {'result_id': '968554'},\n",
       " {'result_id': '968554'},\n",
       " {'result_id': '968554'},\n",
       " {'result_id': '968554'},\n",
       " {'result_id': '968554'},\n",
       " {'result_id': '968554'},\n",
       " {'result_id': '968554'},\n",
       " {'result_id': '968554'},\n",
       " {'result_id': '968554'},\n",
       " {'result_id': '968554'},\n",
       " {'result_id': '968554'},\n",
       " {'result_id': '968554'},\n",
       " {'result_id': '968554'},\n",
       " {'result_id': '968554'},\n",
       " {'result_id': None},\n",
       " {'result_id': '968554'},\n",
       " {'result_id': '968554'},\n",
       " {'result_id': '968554'},\n",
       " {'result_id': '968554'},\n",
       " {'result_id': '968554'},\n",
       " {'result_id': '968554'},\n",
       " {'result_id': '968554'},\n",
       " {'result_id': '968554'},\n",
       " {'result_id': '968554'},\n",
       " {'result_id': '968554'},\n",
       " {'result_id': '968554'},\n",
       " {'result_id': '968554'},\n",
       " {'result_id': '968554'},\n",
       " {'result_id': '968554'},\n",
       " {'result_id': '968554'},\n",
       " {'result_id': '968554'},\n",
       " {'result_id': '968554'},\n",
       " {'result_id': '968554'},\n",
       " {'result_id': '968554'}]"
      ]
     },
     "execution_count": 2,
     "metadata": {},
     "output_type": "execute_result"
    }
   ],
   "source": [
    "recognition_results"
   ]
  },
  {
   "cell_type": "code",
   "execution_count": 3,
   "metadata": {},
   "outputs": [],
   "source": [
    "import pandas as pd"
   ]
  },
  {
   "cell_type": "code",
   "execution_count": 4,
   "metadata": {},
   "outputs": [],
   "source": [
    "df = pd.DataFrame(recognition_results)"
   ]
  },
  {
   "cell_type": "code",
   "execution_count": 5,
   "metadata": {},
   "outputs": [
    {
     "data": {
      "text/html": [
       "<div>\n",
       "<style scoped>\n",
       "    .dataframe tbody tr th:only-of-type {\n",
       "        vertical-align: middle;\n",
       "    }\n",
       "\n",
       "    .dataframe tbody tr th {\n",
       "        vertical-align: top;\n",
       "    }\n",
       "\n",
       "    .dataframe thead th {\n",
       "        text-align: right;\n",
       "    }\n",
       "</style>\n",
       "<table border=\"1\" class=\"dataframe\">\n",
       "  <thead>\n",
       "    <tr style=\"text-align: right;\">\n",
       "      <th></th>\n",
       "      <th>result_id</th>\n",
       "    </tr>\n",
       "  </thead>\n",
       "  <tbody>\n",
       "    <tr>\n",
       "      <th>0</th>\n",
       "      <td>968554</td>\n",
       "    </tr>\n",
       "    <tr>\n",
       "      <th>1</th>\n",
       "      <td>None</td>\n",
       "    </tr>\n",
       "    <tr>\n",
       "      <th>2</th>\n",
       "      <td>968554</td>\n",
       "    </tr>\n",
       "    <tr>\n",
       "      <th>3</th>\n",
       "      <td>968554</td>\n",
       "    </tr>\n",
       "    <tr>\n",
       "      <th>4</th>\n",
       "      <td>968554</td>\n",
       "    </tr>\n",
       "  </tbody>\n",
       "</table>\n",
       "</div>"
      ],
      "text/plain": [
       "  result_id\n",
       "0    968554\n",
       "1      None\n",
       "2    968554\n",
       "3    968554\n",
       "4    968554"
      ]
     },
     "execution_count": 5,
     "metadata": {},
     "output_type": "execute_result"
    }
   ],
   "source": [
    "df.head()"
   ]
  },
  {
   "cell_type": "code",
   "execution_count": 6,
   "metadata": {},
   "outputs": [
    {
     "data": {
      "text/plain": [
       "53"
      ]
     },
     "execution_count": 6,
     "metadata": {},
     "output_type": "execute_result"
    }
   ],
   "source": [
    "len(df)"
   ]
  },
  {
   "cell_type": "code",
   "execution_count": 7,
   "metadata": {},
   "outputs": [
    {
     "data": {
      "text/plain": [
       "array(['968554', None], dtype=object)"
      ]
     },
     "execution_count": 7,
     "metadata": {},
     "output_type": "execute_result"
    }
   ],
   "source": [
    "df['result_id'].unique()"
   ]
  },
  {
   "cell_type": "code",
   "execution_count": 8,
   "metadata": {},
   "outputs": [
    {
     "data": {
      "text/plain": [
       "result_id    7\n",
       "dtype: int64"
      ]
     },
     "execution_count": 8,
     "metadata": {},
     "output_type": "execute_result"
    }
   ],
   "source": [
    "df.isnull().sum()"
   ]
  },
  {
   "cell_type": "code",
   "execution_count": 9,
   "metadata": {},
   "outputs": [],
   "source": [
    "df.dropna(inplace=True)"
   ]
  },
  {
   "cell_type": "code",
   "execution_count": 10,
   "metadata": {},
   "outputs": [
    {
     "data": {
      "text/plain": [
       "array(['968554'], dtype=object)"
      ]
     },
     "execution_count": 10,
     "metadata": {},
     "output_type": "execute_result"
    }
   ],
   "source": [
    "df['result_id'].unique()"
   ]
  },
  {
   "cell_type": "code",
   "execution_count": 11,
   "metadata": {},
   "outputs": [
    {
     "data": {
      "text/plain": [
       "46"
      ]
     },
     "execution_count": 11,
     "metadata": {},
     "output_type": "execute_result"
    }
   ],
   "source": [
    "len(df)"
   ]
  },
  {
   "cell_type": "code",
   "execution_count": 12,
   "metadata": {},
   "outputs": [],
   "source": [
    "from sklearn.metrics import accuracy_score, precision_score, recall_score, f1_score\n"
   ]
  },
  {
   "cell_type": "code",
   "execution_count": 13,
   "metadata": {},
   "outputs": [
    {
     "data": {
      "text/plain": [
       "0     968554\n",
       "1     968554\n",
       "2     968554\n",
       "3     968554\n",
       "4     968554\n",
       "5     968554\n",
       "6     968554\n",
       "7     968554\n",
       "8     968554\n",
       "9     968554\n",
       "10    968554\n",
       "11    968554\n",
       "12    968554\n",
       "13    968554\n",
       "14    968554\n",
       "15    968554\n",
       "16    968554\n",
       "17    968554\n",
       "18    968554\n",
       "19    968554\n",
       "20    968554\n",
       "21    968554\n",
       "22    968554\n",
       "23    968554\n",
       "24    968554\n",
       "25    968554\n",
       "26    968554\n",
       "27    968554\n",
       "28    968554\n",
       "29    968554\n",
       "30    968554\n",
       "31    968554\n",
       "32    968554\n",
       "33    968554\n",
       "34    968554\n",
       "35    968554\n",
       "36    968554\n",
       "37    968554\n",
       "38    968554\n",
       "39    968554\n",
       "40    968554\n",
       "41    968554\n",
       "42    968554\n",
       "43    968554\n",
       "44    968554\n",
       "45    968554\n",
       "46    968554\n",
       "47    968554\n",
       "48    968554\n",
       "49    968554\n",
       "50    968554\n",
       "51    968554\n",
       "52    968554\n",
       "dtype: int64"
      ]
     },
     "execution_count": 13,
     "metadata": {},
     "output_type": "execute_result"
    }
   ],
   "source": [
    "# Hypothetical ground truth data\n",
    "ground_truth = pd.Series([968554 for i in range(53)])\n",
    "ground_truth"
   ]
  },
  {
   "cell_type": "code",
   "execution_count": 14,
   "metadata": {},
   "outputs": [],
   "source": [
    "# Create a DataFrame\n",
    "df2 = pd.DataFrame({'ground_truth': ground_truth, 'prediction': recognition_results})"
   ]
  },
  {
   "cell_type": "code",
   "execution_count": 15,
   "metadata": {},
   "outputs": [],
   "source": [
    "# Drop rows with None values (NaN) in either ground truth or prediction\n",
    "df2 = df2.dropna()"
   ]
  },
  {
   "cell_type": "code",
   "execution_count": 16,
   "metadata": {},
   "outputs": [
    {
     "data": {
      "text/plain": [
       "53"
      ]
     },
     "execution_count": 16,
     "metadata": {},
     "output_type": "execute_result"
    }
   ],
   "source": [
    "len(df2)"
   ]
  },
  {
   "cell_type": "code",
   "execution_count": 17,
   "metadata": {},
   "outputs": [
    {
     "data": {
      "text/html": [
       "<div>\n",
       "<style scoped>\n",
       "    .dataframe tbody tr th:only-of-type {\n",
       "        vertical-align: middle;\n",
       "    }\n",
       "\n",
       "    .dataframe tbody tr th {\n",
       "        vertical-align: top;\n",
       "    }\n",
       "\n",
       "    .dataframe thead th {\n",
       "        text-align: right;\n",
       "    }\n",
       "</style>\n",
       "<table border=\"1\" class=\"dataframe\">\n",
       "  <thead>\n",
       "    <tr style=\"text-align: right;\">\n",
       "      <th></th>\n",
       "      <th>ground_truth</th>\n",
       "      <th>prediction</th>\n",
       "    </tr>\n",
       "  </thead>\n",
       "  <tbody>\n",
       "    <tr>\n",
       "      <th>0</th>\n",
       "      <td>968554</td>\n",
       "      <td>{'result_id': '968554'}</td>\n",
       "    </tr>\n",
       "    <tr>\n",
       "      <th>1</th>\n",
       "      <td>968554</td>\n",
       "      <td>{'result_id': None}</td>\n",
       "    </tr>\n",
       "    <tr>\n",
       "      <th>2</th>\n",
       "      <td>968554</td>\n",
       "      <td>{'result_id': '968554'}</td>\n",
       "    </tr>\n",
       "    <tr>\n",
       "      <th>3</th>\n",
       "      <td>968554</td>\n",
       "      <td>{'result_id': '968554'}</td>\n",
       "    </tr>\n",
       "    <tr>\n",
       "      <th>4</th>\n",
       "      <td>968554</td>\n",
       "      <td>{'result_id': '968554'}</td>\n",
       "    </tr>\n",
       "  </tbody>\n",
       "</table>\n",
       "</div>"
      ],
      "text/plain": [
       "   ground_truth               prediction\n",
       "0        968554  {'result_id': '968554'}\n",
       "1        968554      {'result_id': None}\n",
       "2        968554  {'result_id': '968554'}\n",
       "3        968554  {'result_id': '968554'}\n",
       "4        968554  {'result_id': '968554'}"
      ]
     },
     "execution_count": 17,
     "metadata": {},
     "output_type": "execute_result"
    }
   ],
   "source": [
    "df2.head()"
   ]
  },
  {
   "cell_type": "code",
   "execution_count": 18,
   "metadata": {},
   "outputs": [],
   "source": [
    "# Extract 'result_id' from dictionaries in the 'prediction' column\n",
    "df2['predicted_result_id'] = df2['prediction'].apply(lambda x: x.get('result_id') if x else -1)"
   ]
  },
  {
   "cell_type": "code",
   "execution_count": 19,
   "metadata": {},
   "outputs": [
    {
     "data": {
      "text/html": [
       "<div>\n",
       "<style scoped>\n",
       "    .dataframe tbody tr th:only-of-type {\n",
       "        vertical-align: middle;\n",
       "    }\n",
       "\n",
       "    .dataframe tbody tr th {\n",
       "        vertical-align: top;\n",
       "    }\n",
       "\n",
       "    .dataframe thead th {\n",
       "        text-align: right;\n",
       "    }\n",
       "</style>\n",
       "<table border=\"1\" class=\"dataframe\">\n",
       "  <thead>\n",
       "    <tr style=\"text-align: right;\">\n",
       "      <th></th>\n",
       "      <th>ground_truth</th>\n",
       "      <th>prediction</th>\n",
       "      <th>predicted_result_id</th>\n",
       "    </tr>\n",
       "  </thead>\n",
       "  <tbody>\n",
       "    <tr>\n",
       "      <th>0</th>\n",
       "      <td>968554</td>\n",
       "      <td>{'result_id': '968554'}</td>\n",
       "      <td>968554</td>\n",
       "    </tr>\n",
       "    <tr>\n",
       "      <th>1</th>\n",
       "      <td>968554</td>\n",
       "      <td>{'result_id': None}</td>\n",
       "      <td>None</td>\n",
       "    </tr>\n",
       "    <tr>\n",
       "      <th>2</th>\n",
       "      <td>968554</td>\n",
       "      <td>{'result_id': '968554'}</td>\n",
       "      <td>968554</td>\n",
       "    </tr>\n",
       "    <tr>\n",
       "      <th>3</th>\n",
       "      <td>968554</td>\n",
       "      <td>{'result_id': '968554'}</td>\n",
       "      <td>968554</td>\n",
       "    </tr>\n",
       "    <tr>\n",
       "      <th>4</th>\n",
       "      <td>968554</td>\n",
       "      <td>{'result_id': '968554'}</td>\n",
       "      <td>968554</td>\n",
       "    </tr>\n",
       "  </tbody>\n",
       "</table>\n",
       "</div>"
      ],
      "text/plain": [
       "   ground_truth               prediction predicted_result_id\n",
       "0        968554  {'result_id': '968554'}              968554\n",
       "1        968554      {'result_id': None}                None\n",
       "2        968554  {'result_id': '968554'}              968554\n",
       "3        968554  {'result_id': '968554'}              968554\n",
       "4        968554  {'result_id': '968554'}              968554"
      ]
     },
     "execution_count": 19,
     "metadata": {},
     "output_type": "execute_result"
    }
   ],
   "source": [
    "df2.head()"
   ]
  },
  {
   "cell_type": "code",
   "execution_count": 20,
   "metadata": {},
   "outputs": [
    {
     "data": {
      "text/html": [
       "<div>\n",
       "<style scoped>\n",
       "    .dataframe tbody tr th:only-of-type {\n",
       "        vertical-align: middle;\n",
       "    }\n",
       "\n",
       "    .dataframe tbody tr th {\n",
       "        vertical-align: top;\n",
       "    }\n",
       "\n",
       "    .dataframe thead th {\n",
       "        text-align: right;\n",
       "    }\n",
       "</style>\n",
       "<table border=\"1\" class=\"dataframe\">\n",
       "  <thead>\n",
       "    <tr style=\"text-align: right;\">\n",
       "      <th></th>\n",
       "      <th>ground_truth</th>\n",
       "      <th>prediction</th>\n",
       "      <th>predicted_result_id</th>\n",
       "    </tr>\n",
       "  </thead>\n",
       "  <tbody>\n",
       "    <tr>\n",
       "      <th>count</th>\n",
       "      <td>53</td>\n",
       "      <td>53</td>\n",
       "      <td>46</td>\n",
       "    </tr>\n",
       "    <tr>\n",
       "      <th>unique</th>\n",
       "      <td>1</td>\n",
       "      <td>2</td>\n",
       "      <td>1</td>\n",
       "    </tr>\n",
       "    <tr>\n",
       "      <th>top</th>\n",
       "      <td>968554</td>\n",
       "      <td>{'result_id': '968554'}</td>\n",
       "      <td>968554</td>\n",
       "    </tr>\n",
       "    <tr>\n",
       "      <th>freq</th>\n",
       "      <td>53</td>\n",
       "      <td>46</td>\n",
       "      <td>46</td>\n",
       "    </tr>\n",
       "  </tbody>\n",
       "</table>\n",
       "</div>"
      ],
      "text/plain": [
       "       ground_truth               prediction predicted_result_id\n",
       "count            53                       53                  46\n",
       "unique            1                        2                   1\n",
       "top          968554  {'result_id': '968554'}              968554\n",
       "freq             53                       46                  46"
      ]
     },
     "execution_count": 20,
     "metadata": {},
     "output_type": "execute_result"
    }
   ],
   "source": [
    "df2['ground_truth'] = df2['ground_truth'].astype(str)\n",
    "df2.describe()"
   ]
  },
  {
   "cell_type": "code",
   "execution_count": 21,
   "metadata": {},
   "outputs": [
    {
     "name": "stdout",
     "output_type": "stream",
     "text": [
      "<class 'pandas.core.frame.DataFrame'>\n",
      "RangeIndex: 53 entries, 0 to 52\n",
      "Data columns (total 3 columns):\n",
      " #   Column               Non-Null Count  Dtype \n",
      "---  ------               --------------  ----- \n",
      " 0   ground_truth         53 non-null     object\n",
      " 1   prediction           53 non-null     object\n",
      " 2   predicted_result_id  46 non-null     object\n",
      "dtypes: object(3)\n",
      "memory usage: 1.4+ KB\n"
     ]
    }
   ],
   "source": [
    "df2.info()"
   ]
  },
  {
   "cell_type": "code",
   "execution_count": 22,
   "metadata": {},
   "outputs": [],
   "source": [
    "df2['predicted_result_id'] = df2['predicted_result_id'].fillna(1)"
   ]
  },
  {
   "cell_type": "code",
   "execution_count": 23,
   "metadata": {},
   "outputs": [],
   "source": [
    "df2['predicted_result_id'] = df2['predicted_result_id'].astype(str)"
   ]
  },
  {
   "cell_type": "code",
   "execution_count": 24,
   "metadata": {},
   "outputs": [
    {
     "data": {
      "text/html": [
       "<div>\n",
       "<style scoped>\n",
       "    .dataframe tbody tr th:only-of-type {\n",
       "        vertical-align: middle;\n",
       "    }\n",
       "\n",
       "    .dataframe tbody tr th {\n",
       "        vertical-align: top;\n",
       "    }\n",
       "\n",
       "    .dataframe thead th {\n",
       "        text-align: right;\n",
       "    }\n",
       "</style>\n",
       "<table border=\"1\" class=\"dataframe\">\n",
       "  <thead>\n",
       "    <tr style=\"text-align: right;\">\n",
       "      <th></th>\n",
       "      <th>ground_truth</th>\n",
       "      <th>prediction</th>\n",
       "      <th>predicted_result_id</th>\n",
       "    </tr>\n",
       "  </thead>\n",
       "  <tbody>\n",
       "    <tr>\n",
       "      <th>0</th>\n",
       "      <td>968554</td>\n",
       "      <td>{'result_id': '968554'}</td>\n",
       "      <td>968554</td>\n",
       "    </tr>\n",
       "    <tr>\n",
       "      <th>1</th>\n",
       "      <td>968554</td>\n",
       "      <td>{'result_id': None}</td>\n",
       "      <td>1</td>\n",
       "    </tr>\n",
       "    <tr>\n",
       "      <th>2</th>\n",
       "      <td>968554</td>\n",
       "      <td>{'result_id': '968554'}</td>\n",
       "      <td>968554</td>\n",
       "    </tr>\n",
       "    <tr>\n",
       "      <th>3</th>\n",
       "      <td>968554</td>\n",
       "      <td>{'result_id': '968554'}</td>\n",
       "      <td>968554</td>\n",
       "    </tr>\n",
       "    <tr>\n",
       "      <th>4</th>\n",
       "      <td>968554</td>\n",
       "      <td>{'result_id': '968554'}</td>\n",
       "      <td>968554</td>\n",
       "    </tr>\n",
       "  </tbody>\n",
       "</table>\n",
       "</div>"
      ],
      "text/plain": [
       "  ground_truth               prediction predicted_result_id\n",
       "0       968554  {'result_id': '968554'}              968554\n",
       "1       968554      {'result_id': None}                   1\n",
       "2       968554  {'result_id': '968554'}              968554\n",
       "3       968554  {'result_id': '968554'}              968554\n",
       "4       968554  {'result_id': '968554'}              968554"
      ]
     },
     "execution_count": 24,
     "metadata": {},
     "output_type": "execute_result"
    }
   ],
   "source": [
    "df2.head()"
   ]
  },
  {
   "cell_type": "code",
   "execution_count": 25,
   "metadata": {},
   "outputs": [
    {
     "name": "stdout",
     "output_type": "stream",
     "text": [
      "<class 'pandas.core.frame.DataFrame'>\n",
      "RangeIndex: 53 entries, 0 to 52\n",
      "Data columns (total 3 columns):\n",
      " #   Column               Non-Null Count  Dtype \n",
      "---  ------               --------------  ----- \n",
      " 0   ground_truth         53 non-null     object\n",
      " 1   prediction           53 non-null     object\n",
      " 2   predicted_result_id  53 non-null     object\n",
      "dtypes: object(3)\n",
      "memory usage: 1.4+ KB\n"
     ]
    }
   ],
   "source": [
    "df2.info()"
   ]
  },
  {
   "cell_type": "code",
   "execution_count": 26,
   "metadata": {},
   "outputs": [
    {
     "data": {
      "text/plain": [
       "0.8679245283018868"
      ]
     },
     "execution_count": 26,
     "metadata": {},
     "output_type": "execute_result"
    }
   ],
   "source": [
    "accuracy = accuracy_score(df2['ground_truth'], df2['predicted_result_id'])\n",
    "accuracy"
   ]
  },
  {
   "cell_type": "code",
   "execution_count": 27,
   "metadata": {},
   "outputs": [
    {
     "data": {
      "text/plain": [
       "1.0"
      ]
     },
     "execution_count": 27,
     "metadata": {},
     "output_type": "execute_result"
    }
   ],
   "source": [
    "precision = precision_score(df2['ground_truth'], df2['predicted_result_id'], average='weighted')\n",
    "precision "
   ]
  },
  {
   "cell_type": "code",
   "execution_count": 28,
   "metadata": {},
   "outputs": [
    {
     "name": "stderr",
     "output_type": "stream",
     "text": [
      "C:\\Users\\DELL\\AppData\\Roaming\\Python\\Python39\\site-packages\\sklearn\\metrics\\_classification.py:1334: UndefinedMetricWarning: Recall is ill-defined and being set to 0.0 in labels with no true samples. Use `zero_division` parameter to control this behavior.\n",
      "  _warn_prf(average, modifier, msg_start, len(result))\n"
     ]
    },
    {
     "data": {
      "text/plain": [
       "0.8679245283018868"
      ]
     },
     "execution_count": 28,
     "metadata": {},
     "output_type": "execute_result"
    }
   ],
   "source": [
    "recall = recall_score(df2['ground_truth'], df2['predicted_result_id'], average='weighted')\n",
    "recall"
   ]
  },
  {
   "cell_type": "code",
   "execution_count": 29,
   "metadata": {},
   "outputs": [
    {
     "data": {
      "text/plain": [
       "0.9292929292929293"
      ]
     },
     "execution_count": 29,
     "metadata": {},
     "output_type": "execute_result"
    }
   ],
   "source": [
    "f1 = f1_score(df2['ground_truth'], df2['predicted_result_id'], average='weighted')\n",
    "f1 "
   ]
  },
  {
   "cell_type": "code",
   "execution_count": 30,
   "metadata": {},
   "outputs": [],
   "source": [
    "from sklearn.metrics import confusion_matrix\n",
    "import seaborn as sns\n",
    "import matplotlib.pyplot as plt"
   ]
  },
  {
   "cell_type": "code",
   "execution_count": 31,
   "metadata": {},
   "outputs": [
    {
     "data": {
      "image/png": "[encoded data removed]",
      "text/plain": [
       "<Figure size 576x432 with 2 Axes>"
      ]
     },
     "metadata": {
      "needs_background": "light"
     },
     "output_type": "display_data"
    }
   ],
   "source": [
    "# Create a confusion matrix\n",
    "conf_matrix = confusion_matrix(df2['ground_truth'], df2['predicted_result_id'])\n",
    "\n",
    "# Display the confusion matrix using seaborn\n",
    "plt.figure(figsize=(8, 6))\n",
    "sns.heatmap(conf_matrix, annot=True, fmt=\"d\", cmap=\"Blues\")\n",
    "plt.title('Confusion Matrix')\n",
    "plt.xlabel('Actual')\n",
    "plt.ylabel('Predicted')\n",
    "plt.show()"
   ]
  },
  {
   "cell_type": "code",
   "execution_count": 32,
   "metadata": {},
   "outputs": [
    {
     "data": {
      "text/plain": [
       "array([[ 0,  0],\n",
       "       [ 7, 46]], dtype=int64)"
      ]
     },
     "execution_count": 32,
     "metadata": {},
     "output_type": "execute_result"
    }
   ],
   "source": [
    "conf_matrix"
   ]
  },
  {
   "cell_type": "code",
   "execution_count": null,
   "metadata": {},
   "outputs": [],
   "source": []
  }
 ],
 "metadata": {
  "kernelspec": {
   "display_name": "base",
   "language": "python",
   "name": "python3"
  },
  "language_info": {
   "codemirror_mode": {
    "name": "ipython",
    "version": 3
   },
   "file_extension": ".py",
   "mimetype": "text/x-python",
   "name": "python",
   "nbconvert_exporter": "python",
   "pygments_lexer": "ipython3",
   "version": "3.9.12"
  }
 },
 "nbformat": 4,
 "nbformat_minor": 2
}
